{
 "cells": [
  {
   "cell_type": "code",
   "execution_count": 1,
   "metadata": {},
   "outputs": [
    {
     "name": "stdout",
     "output_type": "stream",
     "text": [
      "[[11 22 39 52]]\n"
     ]
    }
   ],
   "source": [
    "import numpy as np\n",
    "\n",
    "a = np.array([11, 13]).reshape(1,2)\n",
    "\n",
    "b = np.array( [[1, 0],\n",
    "               [2, 0],\n",
    "               [0, 3],\n",
    "               [0, 4]]).transpose()\n",
    "\n",
    "c = a@b\n",
    "\n",
    "print(c)\n",
    "\n",
    "dt = 1"
   ]
  },
  {
   "cell_type": "code",
   "execution_count": 2,
   "metadata": {},
   "outputs": [
    {
     "name": "stdout",
     "output_type": "stream",
     "text": [
      "[[1 1]\n",
      " [0 1]]\n"
     ]
    }
   ],
   "source": [
    "aa = np.array([[1, dt],\n",
    "               [0,  1]])\n",
    "\n",
    "ab = np.array([[1,  0],\n",
    "               [0,  1]])\n",
    "\n",
    "\n",
    "\n",
    "print(aa.reshape(2,2))"
   ]
  },
  {
   "cell_type": "code",
   "execution_count": 3,
   "metadata": {},
   "outputs": [
    {
     "name": "stdout",
     "output_type": "stream",
     "text": [
      "[1]\n",
      "[1, 2]\n",
      "[1, 2, 3]\n",
      "[[0.]\n",
      " [0.]\n",
      " [0.]]\n",
      "[[0.]\n",
      " [0.]\n",
      " [0.]]\n"
     ]
    }
   ],
   "source": [
    "a = [1]\n",
    "print(a)\n",
    "a.append(2)\n",
    "print(a)\n",
    "a.append(3)\n",
    "print(a)\n",
    "\n",
    "b = [3, 4, 3, 2]\n",
    "c = np.zeros((3,1))\n",
    "print(c)\n",
    "d = c.squeeze()\n",
    "print(c)"
   ]
  },
  {
   "cell_type": "code",
   "execution_count": 7,
   "metadata": {},
   "outputs": [
    {
     "ename": "ValueError",
     "evalue": "matmul: Input operand 1 has a mismatch in its core dimension 0, with gufunc signature (n?,k),(k,m?)->(n?,m?) (size 4 is different from 2)",
     "output_type": "error",
     "traceback": [
      "\u001b[1;31m---------------------------------------------------------------------------\u001b[0m",
      "\u001b[1;31mValueError\u001b[0m                                Traceback (most recent call last)",
      "Cell \u001b[1;32mIn[7], line 32\u001b[0m\n\u001b[0;32m     25\u001b[0m R \u001b[38;5;241m=\u001b[39m np\u001b[38;5;241m.\u001b[39marray(  [[sz\u001b[38;5;241m*\u001b[39m\u001b[38;5;241m*\u001b[39m\u001b[38;5;241m2\u001b[39m,   \u001b[38;5;241m0\u001b[39m,       \u001b[38;5;241m0\u001b[39m,     \u001b[38;5;241m0\u001b[39m   ],\n\u001b[0;32m     26\u001b[0m                 [  \u001b[38;5;241m0\u001b[39m,   sz\u001b[38;5;241m*\u001b[39m\u001b[38;5;241m*\u001b[39m\u001b[38;5;241m2\u001b[39m,     \u001b[38;5;241m0\u001b[39m,     \u001b[38;5;241m0\u001b[39m   ],\n\u001b[0;32m     27\u001b[0m                 [  \u001b[38;5;241m0\u001b[39m,     \u001b[38;5;241m0\u001b[39m,     sz\u001b[38;5;241m*\u001b[39m\u001b[38;5;241m*\u001b[39m\u001b[38;5;241m2\u001b[39m,   \u001b[38;5;241m0\u001b[39m   ],\n\u001b[0;32m     28\u001b[0m                 [  \u001b[38;5;241m0\u001b[39m,     \u001b[38;5;241m0\u001b[39m,       \u001b[38;5;241m0\u001b[39m,   sz\u001b[38;5;241m*\u001b[39m\u001b[38;5;241m*\u001b[39m\u001b[38;5;241m2\u001b[39m ]])\n\u001b[0;32m     31\u001b[0m ze \u001b[38;5;241m=\u001b[39m H\u001b[38;5;129m@X2\u001b[39m\n\u001b[1;32m---> 32\u001b[0m Se \u001b[38;5;241m=\u001b[39m \u001b[43m(\u001b[49m\u001b[43mH\u001b[49m\u001b[38;5;129;43m@P2\u001b[39;49m\u001b[43m)\u001b[49m\u001b[38;5;129;43m@np\u001b[39;49m\u001b[38;5;241;43m.\u001b[39;49m\u001b[43mtranspose\u001b[49m\u001b[43m(\u001b[49m\u001b[43mH\u001b[49m\u001b[43m)\u001b[49m\u001b[38;5;241m+\u001b[39mR\n\u001b[0;32m     34\u001b[0m K \u001b[38;5;241m=\u001b[39m (P2\u001b[38;5;129m@np\u001b[39m\u001b[38;5;241m.\u001b[39mtranspose(H))\u001b[38;5;129m@np\u001b[39m\u001b[38;5;241m.\u001b[39mlinalg\u001b[38;5;241m.\u001b[39minv(Se)\n",
      "\u001b[1;31mValueError\u001b[0m: matmul: Input operand 1 has a mismatch in its core dimension 0, with gufunc signature (n?,k),(k,m?)->(n?,m?) (size 4 is different from 2)"
     ]
    }
   ],
   "source": [
    "sz = 0.2\n",
    "sa = 2\n",
    "SV = 3\n",
    "\n",
    "X2 = np.array(  [10, \n",
    "                5, \n",
    "                5, \n",
    "                10]).reshape(4,1) \n",
    "\n",
    "P2 = np.array([[sa**2,   0,     0,     0  ],\n",
    "                [  0,   SV**2,   0,     0  ],\n",
    "                [  0,     0,   sa**2,   0  ],\n",
    "                [  0,     0,     0,   SV**2 ]])\n",
    "\n",
    "P2 = np.array( [[sa**2,   0 ],\n",
    "                [ 0,   SV**2],\n",
    "                [sa**2,   0 ],\n",
    "                [0,   SV**2 ]])\n",
    " \n",
    "H = np.array(  [[1.0, 0.0, 0.0, 0.0],\n",
    "                [0.0, 1.0, 0.0, 0.0],\n",
    "                [0.0, 0.0, 1.0, 0.0],\n",
    "                [0.0, 0.0, 0.0, 1.0]])\n",
    "\n",
    "R = np.array(  [[sz**2,   0,       0,     0   ],\n",
    "                [  0,   sz**2,     0,     0   ],\n",
    "                [  0,     0,     sz**2,   0   ],\n",
    "                [  0,     0,       0,   sz**2 ]])\n",
    "\n",
    "\n",
    "ze = H@X2\n",
    "Se = (H@P2)@np.transpose(H)+R\n",
    "\n",
    "K = (P2@np.transpose(H))@np.linalg.inv(Se)"
   ]
  }
 ],
 "metadata": {
  "kernelspec": {
   "display_name": "Python 3",
   "language": "python",
   "name": "python3"
  },
  "language_info": {
   "codemirror_mode": {
    "name": "ipython",
    "version": 3
   },
   "file_extension": ".py",
   "mimetype": "text/x-python",
   "name": "python",
   "nbconvert_exporter": "python",
   "pygments_lexer": "ipython3",
   "version": "3.11.9"
  }
 },
 "nbformat": 4,
 "nbformat_minor": 2
}
