{
 "cells": [
  {
   "cell_type": "code",
   "execution_count": 1,
   "metadata": {},
   "outputs": [
    {
     "name": "stdout",
     "output_type": "stream",
     "text": [
      "[[11 22 39 52]]\n"
     ]
    }
   ],
   "source": [
    "import numpy as np\n",
    "\n",
    "a = np.array([11, 13]).reshape(1,2)\n",
    "\n",
    "b = np.array( [[1, 0],\n",
    "               [2, 0],\n",
    "               [0, 3],\n",
    "               [0, 4]]).transpose()\n",
    "\n",
    "c = a@b\n",
    "\n",
    "print(c)\n",
    "\n",
    "dt = 1"
   ]
  },
  {
   "cell_type": "code",
   "execution_count": 2,
   "metadata": {},
   "outputs": [
    {
     "name": "stdout",
     "output_type": "stream",
     "text": [
      "[[1 1]\n",
      " [0 1]]\n"
     ]
    }
   ],
   "source": [
    "aa = np.array([[1, dt],\n",
    "               [0,  1]])\n",
    "\n",
    "ab = np.array([[1,  0],\n",
    "               [0,  1]])\n",
    "\n",
    "\n",
    "\n",
    "print(aa.reshape(2,2))"
   ]
  },
  {
   "cell_type": "code",
   "execution_count": null,
   "metadata": {},
   "outputs": [
    {
     "name": "stdout",
     "output_type": "stream",
     "text": [
      "[1]\n",
      "[1, 2]\n",
      "[1, 2, 3]\n",
      "[[0.]\n",
      " [0.]\n",
      " [0.]]\n",
      "[[0.]\n",
      " [0.]\n",
      " [0.]]\n"
     ]
    }
   ],
   "source": [
    "a = [1]\n",
    "print(a)\n",
    "a.append(2)\n",
    "print(a)\n",
    "a.append(3)\n",
    "print(a)\n",
    "\n",
    "b = [3, 4, 3, 2]\n",
    "c = np.zeros((3,1))\n",
    "print(c)\n",
    "d = c.squeeze()\n",
    "print(c)"
   ]
  }
 ],
 "metadata": {
  "kernelspec": {
   "display_name": "base",
   "language": "python",
   "name": "python3"
  },
  "language_info": {
   "codemirror_mode": {
    "name": "ipython",
    "version": 3
   },
   "file_extension": ".py",
   "mimetype": "text/x-python",
   "name": "python",
   "nbconvert_exporter": "python",
   "pygments_lexer": "ipython3",
   "version": "3.11.10"
  }
 },
 "nbformat": 4,
 "nbformat_minor": 2
}
