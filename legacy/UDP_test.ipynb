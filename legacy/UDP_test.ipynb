{
 "cells": [
  {
   "cell_type": "code",
   "execution_count": 4,
   "metadata": {},
   "outputs": [
    {
     "name": "stdout",
     "output_type": "stream",
     "text": [
      "dump file created on keyboardInterrupt \n"
     ]
    }
   ],
   "source": [
    "# обработка буфера сетевых кадров должна идти быстрее, чем формируются сами кадры по сети\n",
    "\n",
    "import socket  # we use the socket module that comes with python3\n",
    "import struct\n",
    "import pickle \n",
    "import numpy\n",
    "\n",
    "MCAST_GRP = '239.192.43.78'\n",
    "MCAST_PORT = 43789\n",
    "IS_ALL_GROUPS = True\n",
    "\n",
    "data = []\n",
    "\n",
    "if __name__ == '__main__':\n",
    "    try:\n",
    "        sock = socket.socket(socket.AF_INET, socket.SOCK_DGRAM, socket.IPPROTO_UDP)\n",
    "        sock.setsockopt(socket.SOL_SOCKET, socket.SO_REUSEADDR, 1)\n",
    "        if IS_ALL_GROUPS:\n",
    "            # on this port, receive all multicast groups\n",
    "            sock.bind(('', MCAST_PORT))\n",
    "        else:\n",
    "            # on this port listen ONLY to MCAST_GRP\n",
    "            sock.bind((MCAST_GRP,MCAST_PORT))\n",
    "\n",
    "        mreq = struct.pack(\"4sl\",socket.inet_aton(MCAST_GRP), socket.INADDR_ANY)\n",
    "\n",
    "        sock.setsockopt(socket.IPPROTO_IP, socket.IP_ADD_MEMBERSHIP, mreq)\n",
    "\n",
    "        while True:\n",
    "            rec_bytes = sock.recv(1197) # 4131 - кол-во байт в одном пакете\n",
    "            msg = bytearray(rec_bytes)\n",
    "                    \n",
    "            scan = {}\n",
    "            i020 = struct.unpack('>I', msg[8:12])\n",
    "            i040_041 = struct.unpack('>HHII', msg[12:24]) # интерпретация байтов в слово какое-нибудь, в си - юнион, HHII - относительно сразу нескольких чисел, i020 и.тд. описание полей в астерикс формате\n",
    "            i051 = struct.unpack('>B', msg[31:32])\n",
    "            i051_data = struct.unpack('>'+'B'*64*i051[0], msg[32:(32+64*i051[0])]) # смещение в байтах \n",
    "            \n",
    "            # scan['ranges'] = numpy.array(list(i051_data))[:1024]       # одно зондирование                       \n",
    "            # scan['azimuth'] = (i040_041[0]+i040_041[0])/2 # angle in samples # код угла с которого пришло зондирование\n",
    "            # scan['scan_time'] = i020[0] # ms\n",
    "            # print(scan['azimuth'])\n",
    "\n",
    "            \n",
    "            data.append(scan)\n",
    "\n",
    "    except KeyboardInterrupt:\n",
    "        with open('D:\\\\test.pkl', 'wb') as f:\n",
    "            pickle.dump(data, f)\n",
    "        print('dump file created on keyboardInterrupt ')"
   ]
  }
 ],
 "metadata": {
  "kernelspec": {
   "display_name": "base",
   "language": "python",
   "name": "python3"
  },
  "language_info": {
   "codemirror_mode": {
    "name": "ipython",
    "version": 3
   },
   "file_extension": ".py",
   "mimetype": "text/x-python",
   "name": "python",
   "nbconvert_exporter": "python",
   "pygments_lexer": "ipython3",
   "version": "3.11.5"
  }
 },
 "nbformat": 4,
 "nbformat_minor": 2
}
