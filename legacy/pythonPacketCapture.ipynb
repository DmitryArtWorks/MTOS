{
 "cells": [
  {
   "cell_type": "code",
   "execution_count": 1,
   "metadata": {},
   "outputs": [],
   "source": [
    "# обработка буфера сетевых кадров должна идти быстрее, чем формируются сами кадры по сети\n",
    "\n",
    "import socketserver  # we use the socketsever module that comes with python3\n",
    "import struct\n",
    "import pickle \n",
    "import numpy\n"
   ]
  },
  {
   "cell_type": "code",
   "execution_count": 3,
   "metadata": {},
   "outputs": [
    {
     "name": "stdout",
     "output_type": "stream",
     "text": [
      "dump file created on interruption \n"
     ]
    }
   ],
   "source": [
    "\n",
    "data = []\n",
    "\n",
    "class UDPDump(socketserver.DatagramRequestHandler):\n",
    "    \n",
    "    def handle(self):\n",
    "        rec_bytes = self.rfile.read(4131)\n",
    "        msg = bytearray(rec_bytes)\n",
    "                \n",
    "        scan = {}\n",
    "        i020 = struct.unpack('>I',msg[8:12])\n",
    "        i040_041 = struct.unpack('>HHII',msg[12:24])\n",
    "        i051 = struct.unpack('>B',msg[31:32])\n",
    "        i051_data = struct.unpack('>'+'B'*64*i051[0],msg[32:(32+64*i051[0])])\n",
    "        \n",
    "        scan['ranges'] = numpy.array(list(i051_data))[:1024]  # Тип ДАННЫХ \"СЛОВАРЬ\". ПРОГУГЛИТЬ                            \n",
    "        scan['azimuth'] = (i040_041[0]+i040_041[0])/2 # angle in samples\n",
    "        scan['scan_time'] = i020[0] # ms\n",
    "        print(scan['azimuth'])\n",
    "        data.append(scan.copy())\n",
    "\n",
    "# this is the main entrypoint\n",
    "if __name__ == '__main__':\n",
    "    try:\n",
    "        # we specify the address and port we want to listen on\n",
    "        listen_addr = ('0.0.0.0', 43789)\n",
    "\n",
    "        # with allowing to reuse the address we dont get into problems running it consecutively sometimes\n",
    "        socketserver.UDPServer.allow_reuse_address = True \n",
    "\n",
    "        # register our class\n",
    "        serverUDP = socketserver.UDPServer(listen_addr, UDPDump)\n",
    "        serverUDP.serve_forever()\n",
    "        \n",
    "    except:\n",
    "        with open('data.pkl', 'wb') as f:\n",
    "            pickle.dump(data, f)\n",
    "        print('dump file created on interruption ')"
   ]
  }
 ],
 "metadata": {
  "kernelspec": {
   "display_name": "Python 3",
   "language": "python",
   "name": "python3"
  },
  "language_info": {
   "codemirror_mode": {
    "name": "ipython",
    "version": 3
   },
   "file_extension": ".py",
   "mimetype": "text/x-python",
   "name": "python",
   "nbconvert_exporter": "python",
   "pygments_lexer": "ipython3",
   "version": "3.11.5"
  }
 },
 "nbformat": 4,
 "nbformat_minor": 2
}
