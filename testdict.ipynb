{
 "cells": [
  {
   "cell_type": "code",
   "execution_count": 1,
   "metadata": {},
   "outputs": [],
   "source": [
    "import struct\n",
    "import numpy as np\n",
    "\n"
   ]
  },
  {
   "cell_type": "code",
   "execution_count": 24,
   "metadata": {},
   "outputs": [],
   "source": [
    "N = 20\n",
    "I_file = np.empty((N,), dtype=\"int16\")\n",
    "Q_file = np.empty((N,), dtype=\"int16\")\n",
    "# I_file = []\n",
    "# Q_file = []\n",
    "\n",
    "ALIGN = 4\n",
    "\n",
    "with open('test.bin', 'rb') as file:\n",
    "    fileContent = (file.read())\n",
    "    for i in range(N):\n",
    "        # print(fileContent[0 +ALIGN*i : 2 +ALIGN*i])\n",
    "        I_tuple = (struct.unpack(\"<h\", fileContent[ 0 +ALIGN*i : 2 +ALIGN*i ]))\n",
    "        I_file[i] = int(I_tuple[0])\n",
    "        Q_tuple = (struct.unpack(\"<h\", fileContent[ 2 +ALIGN*i : 4 +ALIGN*i ]))\n",
    "        Q_file[i] = int(Q_tuple[0])"
   ]
  }
 ],
 "metadata": {
  "kernelspec": {
   "display_name": "base",
   "language": "python",
   "name": "python3"
  },
  "language_info": {
   "codemirror_mode": {
    "name": "ipython",
    "version": 3
   },
   "file_extension": ".py",
   "mimetype": "text/x-python",
   "name": "python",
   "nbconvert_exporter": "python",
   "pygments_lexer": "ipython3",
   "version": "3.11.5"
  }
 },
 "nbformat": 4,
 "nbformat_minor": 2
}
